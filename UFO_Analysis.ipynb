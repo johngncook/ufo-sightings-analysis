{
 "cells": [
  {
   "cell_type": "code",
   "execution_count": 39,
   "id": "32b7fdee",
   "metadata": {},
   "outputs": [],
   "source": [
    "# Libraries used for gathering the data\n",
    "import requests \n",
    "from bs4 import BeautifulSoup\n",
    "import time\n",
    "import random\n",
    "\n",
    "\n",
    "# Libraries used for analysis\n",
    "import pandas as pd\n",
    "import numpy as np\n",
    "from matplotlib import pyplot as plt\n",
    "from scipy.stats import mannwhitneyu\n",
    "import re\n",
    "import string\n",
    "import nltk\n",
    "from nltk.tokenize import word_tokenize\n",
    "from nltk.sentiment.vader import SentimentIntensityAnalyzer\n",
    "from nltk.corpus import stopwords\n",
    "from nltk.stem import WordNetLemmatizer\n",
    "from textblob import TextBlob"
   ]
  },
  {
   "cell_type": "code",
   "execution_count": 40,
   "id": "a5fad536",
   "metadata": {},
   "outputs": [
    {
     "name": "stdout",
     "output_type": "stream",
     "text": [
      "Loading..\n",
      "link  1  finished in 4.244443893432617 seconds\n",
      "Loading..\n",
      "link  2  finished in 1.4425032138824463 seconds\n",
      "Loading..\n",
      "link  3  finished in 2.653001546859741 seconds\n",
      "Loading..\n",
      "link  4  finished in 3.448657751083374 seconds\n",
      "Loading..\n",
      "link  5  finished in 2.507981777191162 seconds\n",
      "Loading..\n",
      "link  6  finished in 2.0101940631866455 seconds\n",
      "Loading..\n",
      "link  7  finished in 1.404707431793213 seconds\n",
      "Loading..\n",
      "link  8  finished in 4.414514064788818 seconds\n",
      "Loading..\n",
      "link  9  finished in 4.243200302124023 seconds\n"
     ]
    }
   ],
   "source": [
    "## Data gathering\n",
    "## This script webscrapes Public UFO Sighting Report Records from The National UFO Reporting Center data using BeautifulSoup and requests\n",
    "## BeautifulSoup uses HTML tags to target where to take data from\n",
    "## Caution when running this code, it scrapes thousands of records and takes hours to complete and will automatically create a csv file\n",
    "\n",
    "# Make empty lists for fields to gather data in. number will be used to print the number link that scraper is scraping from\n",
    "date = []\n",
    "city = []\n",
    "state = []\n",
    "country = []\n",
    "shape = []\n",
    "duration = []\n",
    "summary = []\n",
    "full_text = []\n",
    "number = 0\n",
    "\n",
    "\n",
    "\n",
    "# Get URL and beautiful soup instance.\n",
    "url = 'http://www.nuforc.org/webreports/ndxevent.html'\n",
    "response = requests.get(url)\n",
    "bs = BeautifulSoup(response.text, 'html.parser')\n",
    "#Use Beautifulsoup bs.findall to find tags with 'a' which will find all clickable links on the page and save them to links variable\n",
    "links = bs.find_all('a') \n",
    "\n",
    "# Creates loop for each link to gather all the data with the same HTML pattern.\n",
    "# The first link is skipped because it is the home page link\n",
    "for link in links[1:]:\n",
    "    number = number + 1 #This gives a number in each link to keep track of the scraper's progress\n",
    "    print(\"Loading..\")\n",
    "    \n",
    "    # Time module is used to keep track how long it takes to scrape each link, this function starts the timer\n",
    "    start_time = time.time()\n",
    "    # Time module is used to give the program a wait time between 1-5 seconds per link as not give the website too many requests too fast\n",
    "    time.sleep(random.randint(1, 5))\n",
    "    \n",
    "    # This if statement checks for href tag in each link, if it has it then that link is scraped\n",
    "    if 'href'in link.attrs:\n",
    "        url = ('http://www.nuforc.org/webreports/' + str(link.attrs['href']))\n",
    "        response = requests.get(url)\n",
    "        bs = BeautifulSoup(response.text, 'html.parser')\n",
    "        \n",
    "        # Searched for the tr tag which gives the data from the table on the web page.\n",
    "        rows = bs.find_all('tr')\n",
    "        \n",
    "        # This loop goes through each row except the header row and appends each value of the web page table to it's specified list\n",
    "        for row in rows[1:]:\n",
    "            split_list = row.text.split('\\n')\n",
    "            date.append(split_list[1])\n",
    "            city.append(split_list[2])\n",
    "            state.append(split_list[3])\n",
    "            country.append(split_list[4])\n",
    "            shape.append(split_list[5])\n",
    "            duration.append(split_list[6])\n",
    "            summary.append(split_list[7])\n",
    "    # time is ended and prints that the link is finished\n",
    "    end_time = time.time()\n",
    "    print('link ', str(number), ' finished in {} seconds'.format(end_time - start_time))\n",
    "    \n",
    "\n",
    "#After each link is scraped the data is put into a dictionary value\n",
    "data = {'date' : date, 'city' : city, 'state' : state, 'country' : country, 'shape' : shape, 'duration' : duration, 'summary' : summary}\n",
    "\n",
    "# It is then made into a dataframe object\n",
    "df = pd.DataFrame(data)\n",
    "\n",
    "# The data frame is saved as a csv file\n",
    "df.to_csv('raw_sightings_data')"
   ]
  },
  {
   "cell_type": "code",
   "execution_count": 41,
   "id": "f802bcec",
   "metadata": {},
   "outputs": [],
   "source": [
    "## Start of Analysis\n",
    "# Read in csv file\n",
    "df = pd.read_csv('raw_sightings_data')"
   ]
  },
  {
   "cell_type": "code",
   "execution_count": 42,
   "id": "f82074b1",
   "metadata": {},
   "outputs": [
    {
     "data": {
      "text/html": [
       "<div>\n",
       "<style scoped>\n",
       "    .dataframe tbody tr th:only-of-type {\n",
       "        vertical-align: middle;\n",
       "    }\n",
       "\n",
       "    .dataframe tbody tr th {\n",
       "        vertical-align: top;\n",
       "    }\n",
       "\n",
       "    .dataframe thead th {\n",
       "        text-align: right;\n",
       "    }\n",
       "</style>\n",
       "<table border=\"1\" class=\"dataframe\">\n",
       "  <thead>\n",
       "    <tr style=\"text-align: right;\">\n",
       "      <th></th>\n",
       "      <th>Unnamed: 0</th>\n",
       "      <th>date</th>\n",
       "      <th>city</th>\n",
       "      <th>state</th>\n",
       "      <th>country</th>\n",
       "      <th>shape</th>\n",
       "      <th>duration</th>\n",
       "      <th>summary</th>\n",
       "    </tr>\n",
       "  </thead>\n",
       "  <tbody>\n",
       "    <tr>\n",
       "      <th>0</th>\n",
       "      <td>0</td>\n",
       "      <td>3/3/22 08:01</td>\n",
       "      <td>Phoenix</td>\n",
       "      <td>AZ</td>\n",
       "      <td>USA</td>\n",
       "      <td>Egg</td>\n",
       "      <td>NaN</td>\n",
       "      <td>No sound weird looking though it was helicopter</td>\n",
       "    </tr>\n",
       "    <tr>\n",
       "      <th>1</th>\n",
       "      <td>1</td>\n",
       "      <td>3/2/22 21:40</td>\n",
       "      <td>Lino Lakes</td>\n",
       "      <td>MN</td>\n",
       "      <td>USA</td>\n",
       "      <td>Sphere</td>\n",
       "      <td>3 minutes</td>\n",
       "      <td>Three bright spheres moving across sky.</td>\n",
       "    </tr>\n",
       "    <tr>\n",
       "      <th>2</th>\n",
       "      <td>2</td>\n",
       "      <td>3/2/22 18:19</td>\n",
       "      <td>Indianapolis</td>\n",
       "      <td>IN</td>\n",
       "      <td>USA</td>\n",
       "      <td>Cone</td>\n",
       "      <td>7 mins</td>\n",
       "      <td>Heard a high pitched ringing and turned around...</td>\n",
       "    </tr>\n",
       "    <tr>\n",
       "      <th>3</th>\n",
       "      <td>3</td>\n",
       "      <td>3/2/22 18:18</td>\n",
       "      <td>lexington</td>\n",
       "      <td>NE</td>\n",
       "      <td>USA</td>\n",
       "      <td>Cylinder</td>\n",
       "      <td>2 minutes</td>\n",
       "      <td>While waiting for a locksmith I observed an ob...</td>\n",
       "    </tr>\n",
       "    <tr>\n",
       "      <th>4</th>\n",
       "      <td>4</td>\n",
       "      <td>3/2/22 18:10</td>\n",
       "      <td>paw paw</td>\n",
       "      <td>MI</td>\n",
       "      <td>USA</td>\n",
       "      <td>Cone</td>\n",
       "      <td>10 seconds</td>\n",
       "      <td>Driving to work and saw bright light slow movi...</td>\n",
       "    </tr>\n",
       "    <tr>\n",
       "      <th>...</th>\n",
       "      <td>...</td>\n",
       "      <td>...</td>\n",
       "      <td>...</td>\n",
       "      <td>...</td>\n",
       "      <td>...</td>\n",
       "      <td>...</td>\n",
       "      <td>...</td>\n",
       "      <td>...</td>\n",
       "    </tr>\n",
       "    <tr>\n",
       "      <th>137422</th>\n",
       "      <td>137422</td>\n",
       "      <td>NaN</td>\n",
       "      <td>Graham</td>\n",
       "      <td>WA</td>\n",
       "      <td>USA</td>\n",
       "      <td>Disk</td>\n",
       "      <td>2 minutes</td>\n",
       "      <td>Driving west on 224th looked right saw large c...</td>\n",
       "    </tr>\n",
       "    <tr>\n",
       "      <th>137423</th>\n",
       "      <td>137423</td>\n",
       "      <td>NaN</td>\n",
       "      <td>NaN</td>\n",
       "      <td>NaN</td>\n",
       "      <td>USA</td>\n",
       "      <td>NaN</td>\n",
       "      <td>NaN</td>\n",
       "      <td>((HOAX??))  I work as a security guard in marc...</td>\n",
       "    </tr>\n",
       "    <tr>\n",
       "      <th>137424</th>\n",
       "      <td>137424</td>\n",
       "      <td>NaN</td>\n",
       "      <td>Edmond</td>\n",
       "      <td>OK</td>\n",
       "      <td>USA</td>\n",
       "      <td>NaN</td>\n",
       "      <td>NaN</td>\n",
       "      <td>((HOAX??))  30 second bright red glowing fireb...</td>\n",
       "    </tr>\n",
       "    <tr>\n",
       "      <th>137425</th>\n",
       "      <td>137425</td>\n",
       "      <td>NaN</td>\n",
       "      <td>Richland</td>\n",
       "      <td>WA</td>\n",
       "      <td>USA</td>\n",
       "      <td>Sphere</td>\n",
       "      <td>10 min</td>\n",
       "      <td>Multiple sightings</td>\n",
       "    </tr>\n",
       "    <tr>\n",
       "      <th>137426</th>\n",
       "      <td>137426</td>\n",
       "      <td>--</td>\n",
       "      <td>Monument</td>\n",
       "      <td>CO</td>\n",
       "      <td>USA</td>\n",
       "      <td>Changing</td>\n",
       "      <td>8-12 MINUTES</td>\n",
       "      <td>SPIDER/OCTOPUS SHAPED CRAFT APPRX 200-300 FT A...</td>\n",
       "    </tr>\n",
       "  </tbody>\n",
       "</table>\n",
       "<p>137427 rows × 8 columns</p>\n",
       "</div>"
      ],
      "text/plain": [
       "        Unnamed: 0          date          city state country     shape  \\\n",
       "0                0  3/3/22 08:01       Phoenix    AZ     USA       Egg   \n",
       "1                1  3/2/22 21:40    Lino Lakes    MN     USA    Sphere   \n",
       "2                2  3/2/22 18:19  Indianapolis    IN     USA      Cone   \n",
       "3                3  3/2/22 18:18     lexington    NE     USA  Cylinder   \n",
       "4                4  3/2/22 18:10       paw paw    MI     USA      Cone   \n",
       "...            ...           ...           ...   ...     ...       ...   \n",
       "137422      137422           NaN        Graham    WA     USA      Disk   \n",
       "137423      137423           NaN           NaN   NaN     USA       NaN   \n",
       "137424      137424           NaN        Edmond    OK     USA       NaN   \n",
       "137425      137425           NaN      Richland    WA     USA    Sphere   \n",
       "137426      137426            --      Monument    CO     USA  Changing   \n",
       "\n",
       "            duration                                            summary  \n",
       "0                NaN    No sound weird looking though it was helicopter  \n",
       "1          3 minutes            Three bright spheres moving across sky.  \n",
       "2             7 mins  Heard a high pitched ringing and turned around...  \n",
       "3          2 minutes  While waiting for a locksmith I observed an ob...  \n",
       "4         10 seconds  Driving to work and saw bright light slow movi...  \n",
       "...              ...                                                ...  \n",
       "137422     2 minutes  Driving west on 224th looked right saw large c...  \n",
       "137423           NaN  ((HOAX??))  I work as a security guard in marc...  \n",
       "137424           NaN  ((HOAX??))  30 second bright red glowing fireb...  \n",
       "137425        10 min                                 Multiple sightings  \n",
       "137426  8-12 MINUTES  SPIDER/OCTOPUS SHAPED CRAFT APPRX 200-300 FT A...  \n",
       "\n",
       "[137427 rows x 8 columns]"
      ]
     },
     "execution_count": 42,
     "metadata": {},
     "output_type": "execute_result"
    }
   ],
   "source": [
    "# Show snapshot of raw dataframe\n",
    "df"
   ]
  },
  {
   "cell_type": "code",
   "execution_count": 43,
   "id": "c722fdf8",
   "metadata": {},
   "outputs": [],
   "source": [
    "## Data Cleaning\n",
    "# Splits date column and saves the date to it's own column the time to it's own column\n",
    "date_split = df['date'].str.split(' ', expand=True)\n",
    "df['date'] = date_split[0]\n",
    "df['time'] = date_split[1]"
   ]
  },
  {
   "cell_type": "code",
   "execution_count": 44,
   "id": "122a770b",
   "metadata": {},
   "outputs": [
    {
     "name": "stderr",
     "output_type": "stream",
     "text": [
      "[nltk_data] Downloading package stopwords to\n",
      "[nltk_data]     C:\\Users\\johns\\AppData\\Roaming\\nltk_data...\n",
      "[nltk_data]   Package stopwords is already up-to-date!\n"
     ]
    }
   ],
   "source": [
    "## Create function to clean text data using nltk stopwords and lemmatization\n",
    "# Setup stopwords for english and setup lemmatizer\n",
    "nltk.download('stopwords')\n",
    "lemmatizer = WordNetLemmatizer()\n",
    "stopword=set(stopwords.words('english'))\n",
    "\n",
    "# create function\n",
    "def clean(text):\n",
    "    text = str(text).lower() # Turns text to lower case\n",
    "    text = re.sub('\\[.*?\\]', '', text) # Gets rid of punctuation\n",
    "    text = re.sub('https?://\\S+|www\\.\\S+', '', text) # Gets rid of URL text\n",
    "    text = re.sub('<.*?>+', '', text) # Gets rid of more punctuation\n",
    "    text = re.sub('[%s]' % re.escape(string.punctuation), '', text) # More punctuation\n",
    "    text = re.sub('\\n', '', text) # Eliminates new line text\n",
    "    text = re.sub('’', '', text) # Eliminates apostrophies\n",
    "    text = re.sub('\\w*\\d\\w*', '', text) # eliminates numerical digits\n",
    "    text = [word for word in text.split(' ') if word not in stopword] # List comprehension that eliminates stop words by splitting on any non stopword text text\n",
    "    text=\" \".join(text) #Joins seperated words\n",
    "    text = [lemmatizer.lemmatize(word) for word in text.split(' ')] # Splits words again and lemmatizes them\n",
    "    text=\" \".join(text) # Joins together words again\n",
    "    return text"
   ]
  },
  {
   "cell_type": "code",
   "execution_count": 45,
   "id": "09ac04e5",
   "metadata": {},
   "outputs": [],
   "source": [
    "# Applies clean function to summary column\n",
    "df['summary'] = df['summary'].apply(clean)"
   ]
  },
  {
   "cell_type": "code",
   "execution_count": 46,
   "id": "d29ed1bf",
   "metadata": {},
   "outputs": [
    {
     "name": "stderr",
     "output_type": "stream",
     "text": [
      "C:\\Users\\johns\\AppData\\Local\\Temp\\ipykernel_13752\\1878788312.py:5: SettingWithCopyWarning: \n",
      "A value is trying to be set on a copy of a slice from a DataFrame.\n",
      "Try using .loc[row_indexer,col_indexer] = value instead\n",
      "\n",
      "See the caveats in the documentation: https://pandas.pydata.org/pandas-docs/stable/user_guide/indexing.html#returning-a-view-versus-a-copy\n",
      "  df.loc[:,'date'] = df.date.astype('datetime64')\n"
     ]
    }
   ],
   "source": [
    "# Makes new data from consisting of only 2018 data and up which ends at record 20988 because the data is already ordered by date\n",
    "df = df.loc[:20988]\n",
    "\n",
    "# Changes date data type to datetime format in order to perform functions with date data \n",
    "df.loc[:,'date'] = df.date.astype('datetime64')\n",
    "\n",
    "# Created dataframe with only the total target three years needed for the analysis\n",
    "# Filters between target dates then creates the dataframe\n",
    "three_year_df = df[(df['date'] > '2018-09-14') & (df['date'] < '2021-09-16') & (df['country'] == 'USA')]\n",
    "# Drops columns not needed for the analysis\n",
    "three_year_df = three_year_df.drop(columns=['Unnamed: 0','city','duration','time'])"
   ]
  },
  {
   "cell_type": "code",
   "execution_count": 47,
   "id": "f9a09cd7",
   "metadata": {},
   "outputs": [
    {
     "data": {
      "text/html": [
       "<div>\n",
       "<style scoped>\n",
       "    .dataframe tbody tr th:only-of-type {\n",
       "        vertical-align: middle;\n",
       "    }\n",
       "\n",
       "    .dataframe tbody tr th {\n",
       "        vertical-align: top;\n",
       "    }\n",
       "\n",
       "    .dataframe thead th {\n",
       "        text-align: right;\n",
       "    }\n",
       "</style>\n",
       "<table border=\"1\" class=\"dataframe\">\n",
       "  <thead>\n",
       "    <tr style=\"text-align: right;\">\n",
       "      <th></th>\n",
       "      <th>date</th>\n",
       "      <th>state</th>\n",
       "      <th>country</th>\n",
       "      <th>shape</th>\n",
       "      <th>summary</th>\n",
       "    </tr>\n",
       "  </thead>\n",
       "  <tbody>\n",
       "    <tr>\n",
       "      <th>1570</th>\n",
       "      <td>2021-09-15</td>\n",
       "      <td>IN</td>\n",
       "      <td>USA</td>\n",
       "      <td>Circle</td>\n",
       "      <td>rounnd white light moving sw ne stopped hovere...</td>\n",
       "    </tr>\n",
       "    <tr>\n",
       "      <th>1571</th>\n",
       "      <td>2021-09-15</td>\n",
       "      <td>FL</td>\n",
       "      <td>USA</td>\n",
       "      <td>Light</td>\n",
       "      <td>evening dark partly cloudy listening live band...</td>\n",
       "    </tr>\n",
       "    <tr>\n",
       "      <th>1572</th>\n",
       "      <td>2021-09-15</td>\n",
       "      <td>CO</td>\n",
       "      <td>USA</td>\n",
       "      <td>Light</td>\n",
       "      <td>atmosphere entering tracer fire light</td>\n",
       "    </tr>\n",
       "    <tr>\n",
       "      <th>1573</th>\n",
       "      <td>2021-09-15</td>\n",
       "      <td>FL</td>\n",
       "      <td>USA</td>\n",
       "      <td>NaN</td>\n",
       "      <td>nuforc note  witness provides detailed informa...</td>\n",
       "    </tr>\n",
       "    <tr>\n",
       "      <th>1574</th>\n",
       "      <td>2021-09-15</td>\n",
       "      <td>FL</td>\n",
       "      <td>USA</td>\n",
       "      <td>Changing</td>\n",
       "      <td>nuforc note  witness provides detailed informa...</td>\n",
       "    </tr>\n",
       "    <tr>\n",
       "      <th>...</th>\n",
       "      <td>...</td>\n",
       "      <td>...</td>\n",
       "      <td>...</td>\n",
       "      <td>...</td>\n",
       "      <td>...</td>\n",
       "    </tr>\n",
       "    <tr>\n",
       "      <th>18461</th>\n",
       "      <td>2018-09-15</td>\n",
       "      <td>NJ</td>\n",
       "      <td>USA</td>\n",
       "      <td>Oval</td>\n",
       "      <td>saw  bright oval light sky straight row flew a...</td>\n",
       "    </tr>\n",
       "    <tr>\n",
       "      <th>18462</th>\n",
       "      <td>2018-09-15</td>\n",
       "      <td>OH</td>\n",
       "      <td>USA</td>\n",
       "      <td>Circle</td>\n",
       "      <td>group  bubblelike ufo seen ne ohio traveling nw</td>\n",
       "    </tr>\n",
       "    <tr>\n",
       "      <th>18463</th>\n",
       "      <td>2018-09-15</td>\n",
       "      <td>NY</td>\n",
       "      <td>USA</td>\n",
       "      <td>Triangle</td>\n",
       "      <td>saw triangular object green red line appeared ...</td>\n",
       "    </tr>\n",
       "    <tr>\n",
       "      <th>18464</th>\n",
       "      <td>2018-09-15</td>\n",
       "      <td>NJ</td>\n",
       "      <td>USA</td>\n",
       "      <td>Light</td>\n",
       "      <td>brilliant bright light brick nj</td>\n",
       "    </tr>\n",
       "    <tr>\n",
       "      <th>18465</th>\n",
       "      <td>2018-09-15</td>\n",
       "      <td>VA</td>\n",
       "      <td>USA</td>\n",
       "      <td>Light</td>\n",
       "      <td>multi color light light night sky temporary di...</td>\n",
       "    </tr>\n",
       "  </tbody>\n",
       "</table>\n",
       "<p>15814 rows × 5 columns</p>\n",
       "</div>"
      ],
      "text/plain": [
       "            date state country     shape  \\\n",
       "1570  2021-09-15    IN     USA    Circle   \n",
       "1571  2021-09-15    FL     USA     Light   \n",
       "1572  2021-09-15    CO     USA     Light   \n",
       "1573  2021-09-15    FL     USA       NaN   \n",
       "1574  2021-09-15    FL     USA  Changing   \n",
       "...          ...   ...     ...       ...   \n",
       "18461 2018-09-15    NJ     USA      Oval   \n",
       "18462 2018-09-15    OH     USA    Circle   \n",
       "18463 2018-09-15    NY     USA  Triangle   \n",
       "18464 2018-09-15    NJ     USA     Light   \n",
       "18465 2018-09-15    VA     USA     Light   \n",
       "\n",
       "                                                 summary  \n",
       "1570   rounnd white light moving sw ne stopped hovere...  \n",
       "1571   evening dark partly cloudy listening live band...  \n",
       "1572               atmosphere entering tracer fire light  \n",
       "1573   nuforc note  witness provides detailed informa...  \n",
       "1574   nuforc note  witness provides detailed informa...  \n",
       "...                                                  ...  \n",
       "18461  saw  bright oval light sky straight row flew a...  \n",
       "18462    group  bubblelike ufo seen ne ohio traveling nw  \n",
       "18463  saw triangular object green red line appeared ...  \n",
       "18464                    brilliant bright light brick nj  \n",
       "18465  multi color light light night sky temporary di...  \n",
       "\n",
       "[15814 rows x 5 columns]"
      ]
     },
     "execution_count": 47,
     "metadata": {},
     "output_type": "execute_result"
    }
   ],
   "source": [
    "# Gives snapshot of clean data set\n",
    "three_year_df"
   ]
  },
  {
   "cell_type": "code",
   "execution_count": 48,
   "id": "67092ef4",
   "metadata": {},
   "outputs": [
    {
     "name": "stdout",
     "output_type": "stream",
     "text": [
      "Before Covid Count:  8398\n",
      "\n",
      " After Covid Count:  7393\n"
     ]
    },
    {
     "data": {
      "image/png": "[encoded data removed]",
      "text/plain": [
       "<Figure size 432x288 with 1 Axes>"
      ]
     },
     "metadata": {
      "needs_background": "light"
     },
     "output_type": "display_data"
    }
   ],
   "source": [
    "## Exploratory Data Analysis\n",
    "# Creates new before and after covid data frames by using target dates as filters.\n",
    "before_covid = three_year_df[three_year_df['date'] < '2020-03-15']\n",
    "after_covid = three_year_df[three_year_df['date'] > '2020-03-15']\n",
    "\n",
    "# Prints counts of each data set\n",
    "print('Before Covid Count: ',before_covid['date'].count())\n",
    "print('\\n','After Covid Count: ',after_covid['date'].count())\n",
    "\n",
    "# Plots bar chart of counts of each data set\n",
    "plt.bar(['Before Covid-19', 'After Covid-19'],[before_covid['date'].count(),after_covid['date'].count()])\n",
    "\n",
    "plt.ylabel('Number of Reported Sightings')\n",
    "plt.title('Number of Reported Sightings Before and After Covid Began');"
   ]
  },
  {
   "cell_type": "code",
   "execution_count": 49,
   "id": "4de2e4ec",
   "metadata": {},
   "outputs": [
    {
     "name": "stdout",
     "output_type": "stream",
     "text": [
      "Before Covid Daily Mean:  15.352833638025594\n",
      "\n",
      " After Covid Daily Mean:  13.49087591240876\n"
     ]
    },
    {
     "data": {
      "image/png": "[encoded data removed]",
      "text/plain": [
       "<Figure size 432x288 with 1 Axes>"
      ]
     },
     "metadata": {
      "needs_background": "light"
     },
     "output_type": "display_data"
    }
   ],
   "source": [
    "## Comparing Number of Report Instances Before and After Covid-19\n",
    "# Uses groupby function to take counts of sightings for each individual day for both before and after covid time periods\n",
    "before = before_covid.groupby('date')\n",
    "before = before['date'].count()\n",
    "\n",
    "\n",
    "after = after_covid.groupby('date')\n",
    "after = after['date'].count()\n",
    "\n",
    "\n",
    "# Prints the mean sightings per day for both data sets\n",
    "print('Before Covid Daily Mean: ',before.mean())\n",
    "print('\\n','After Covid Daily Mean: ',after.mean())\n",
    "\n",
    "# Creates bar plot of mean sightings per for both data sets\n",
    "plt.bar(['Before Covid-19', 'After Covid-19'],[before.mean(),after.mean()])\n",
    "\n",
    "plt.ylabel('Mean Number of Reported Sightings per Day')\n",
    "plt.title('Daily Mean of Reported Sightings Before and After Covid Began');"
   ]
  },
  {
   "cell_type": "code",
   "execution_count": 50,
   "id": "017f6a9e",
   "metadata": {},
   "outputs": [
    {
     "name": "stdout",
     "output_type": "stream",
     "text": [
      "Statistics=173661.500, p=0.000\n",
      "Different distribution (reject H0)\n"
     ]
    }
   ],
   "source": [
    "# Creates hypothesis test for Mann-Whitney U test \n",
    "stat, p = mannwhitneyu(before, after)\n",
    "print('Statistics=%.3f, p=%.3f' % (stat, p))\n",
    "# Interpret the test\n",
    "alpha = 0.05\n",
    "if p > alpha:\n",
    "    print('Same distribution (fail to reject H0)')\n",
    "else:\n",
    "    print('Different distribution (reject H0)')"
   ]
  },
  {
   "cell_type": "code",
   "execution_count": 51,
   "id": "82b48116",
   "metadata": {},
   "outputs": [
    {
     "data": {
      "text/plain": [
       "5.34918254858708e-06"
      ]
     },
     "execution_count": 51,
     "metadata": {},
     "output_type": "execute_result"
    }
   ],
   "source": [
    "# This shows the actual p value since the test shows it as zero\n",
    "p"
   ]
  },
  {
   "cell_type": "code",
   "execution_count": 52,
   "id": "16c6ac3c",
   "metadata": {},
   "outputs": [
    {
     "data": {
      "image/png": "[encoded data removed]",
      "text/plain": [
       "<Figure size 720x720 with 1 Axes>"
      ]
     },
     "metadata": {
      "needs_background": "light"
     },
     "output_type": "display_data"
    }
   ],
   "source": [
    "## Comparing Reported Shapes\n",
    "# Prints Horizontal bar chart of the top 5 shapes reported\n",
    "\n",
    "plt.figure(figsize = (10,10))\n",
    "\n",
    "# Takes the value counts of the shape column and sorts them by ascending\n",
    "y = before_covid['shape'].value_counts(sort=True, ascending=True)\n",
    "# this does the same but only the index so the names show up as the x value instead of the actual value\n",
    "x = before_covid['shape'].value_counts(sort=True, ascending=True).index\n",
    "\n",
    "# The chart is plotted by taking both these x and y values made and taking the last 5 in the list\n",
    "# This makes it so the the highest values are on top on the graph\n",
    "plt.barh(x[-5:], y[-5:])\n",
    "plt.title('Frequency of Reported Shapes Before Covid-19', fontsize = 15)\n",
    "plt.xlabel('Frequency')\n",
    "plt.ylabel('Shape Description');"
   ]
  },
  {
   "cell_type": "code",
   "execution_count": 53,
   "id": "d136c56d",
   "metadata": {},
   "outputs": [
    {
     "data": {
      "image/png": "[encoded data removed]",
      "text/plain": [
       "<Figure size 720x720 with 1 Axes>"
      ]
     },
     "metadata": {
      "needs_background": "light"
     },
     "output_type": "display_data"
    }
   ],
   "source": [
    "# This code does the same but for After Covid data\n",
    "\n",
    "plt.figure(figsize = (10,10))\n",
    "\n",
    "y = after_covid['shape'].value_counts(sort=True, ascending=True)\n",
    "x = after_covid['shape'].value_counts(sort=True, ascending=True).index\n",
    "plt.barh(x[-5:], y[-5:])\n",
    "plt.title('Frequency of Reported Shapes After Covid-19',fontsize = 15)\n",
    "plt.xlabel('Frequency')\n",
    "plt.ylabel('Shape Description');"
   ]
  },
  {
   "cell_type": "code",
   "execution_count": 54,
   "id": "94794330",
   "metadata": {},
   "outputs": [
    {
     "data": {
      "image/png": "[encoded data removed]",
      "text/plain": [
       "<Figure size 1368x720 with 1 Axes>"
      ]
     },
     "metadata": {
      "needs_background": "light"
     },
     "output_type": "display_data"
    }
   ],
   "source": [
    "## Comparing Sights per State\n",
    "# Plots bar chart for the states with the top 10 number of sightings in the same method as the previous charts\n",
    "# Before covid chart\n",
    "\n",
    "plt.figure(figsize = (19,10))\n",
    "\n",
    "y = before_covid['state'].value_counts().values\n",
    "x = before_covid['state'].value_counts().index\n",
    "plt.bar(x[0:10], y[0:10])\n",
    "plt.title('Number of Sightings per State Before Covid-19', fontsize = 20)\n",
    "plt.xlabel('US State Abbreviation')\n",
    "plt.ylabel('Frequency');"
   ]
  },
  {
   "cell_type": "code",
   "execution_count": 55,
   "id": "9941e9a3",
   "metadata": {},
   "outputs": [
    {
     "data": {
      "image/png": "[encoded data removed]",
      "text/plain": [
       "<Figure size 1368x720 with 1 Axes>"
      ]
     },
     "metadata": {
      "needs_background": "light"
     },
     "output_type": "display_data"
    }
   ],
   "source": [
    "# After covid chart\n",
    "\n",
    "plt.figure(figsize = (19,10))\n",
    "\n",
    "y = after_covid['state'].value_counts().values\n",
    "x = after_covid['state'].value_counts().index\n",
    "plt.bar(x[0:10], y[0:10])\n",
    "plt.title('Number of Sightings per State After Covid-19', fontsize = 20)\n",
    "plt.xlabel('US State Abbreviation')\n",
    "plt.ylabel('Frequency');"
   ]
  },
  {
   "cell_type": "markdown",
   "id": "2e1f4d59",
   "metadata": {},
   "source": [
    "## Sentiment Analysis"
   ]
  },
  {
   "cell_type": "code",
   "execution_count": 56,
   "id": "3aeec9b8",
   "metadata": {},
   "outputs": [
    {
     "name": "stderr",
     "output_type": "stream",
     "text": [
      "C:\\Users\\johns\\AppData\\Local\\Temp\\ipykernel_13752\\221184000.py:4: SettingWithCopyWarning: \n",
      "A value is trying to be set on a copy of a slice from a DataFrame.\n",
      "Try using .loc[row_indexer,col_indexer] = value instead\n",
      "\n",
      "See the caveats in the documentation: https://pandas.pydata.org/pandas-docs/stable/user_guide/indexing.html#returning-a-view-versus-a-copy\n",
      "  before_covid['sentiment'] = before_covid['summary'].apply(lambda i: TextBlob(str(i)).sentiment[0])\n",
      "C:\\Users\\johns\\AppData\\Local\\Temp\\ipykernel_13752\\221184000.py:5: SettingWithCopyWarning: \n",
      "A value is trying to be set on a copy of a slice from a DataFrame.\n",
      "Try using .loc[row_indexer,col_indexer] = value instead\n",
      "\n",
      "See the caveats in the documentation: https://pandas.pydata.org/pandas-docs/stable/user_guide/indexing.html#returning-a-view-versus-a-copy\n",
      "  before_covid['sentiment_category'] = ['positive' if score > 0 else 'negative' if score < 0 else 'neutral' for score in before_covid['sentiment']]\n",
      "C:\\Users\\johns\\AppData\\Local\\Temp\\ipykernel_13752\\221184000.py:8: SettingWithCopyWarning: \n",
      "A value is trying to be set on a copy of a slice from a DataFrame.\n",
      "Try using .loc[row_indexer,col_indexer] = value instead\n",
      "\n",
      "See the caveats in the documentation: https://pandas.pydata.org/pandas-docs/stable/user_guide/indexing.html#returning-a-view-versus-a-copy\n",
      "  after_covid['sentiment'] = after_covid['summary'].apply(lambda i: TextBlob(str(i)).sentiment[0])\n",
      "C:\\Users\\johns\\AppData\\Local\\Temp\\ipykernel_13752\\221184000.py:9: SettingWithCopyWarning: \n",
      "A value is trying to be set on a copy of a slice from a DataFrame.\n",
      "Try using .loc[row_indexer,col_indexer] = value instead\n",
      "\n",
      "See the caveats in the documentation: https://pandas.pydata.org/pandas-docs/stable/user_guide/indexing.html#returning-a-view-versus-a-copy\n",
      "  after_covid['sentiment_category'] = ['positive' if score > 0 else 'negative' if score < 0 else 'neutral' for score in after_covid['sentiment']]\n"
     ]
    }
   ],
   "source": [
    "## Sentiment Analysis \n",
    "# First uses Lambda function with textblob to get sentiment score for every comment and only the seniment score value [0] and creates a DataFrame column for it\n",
    "# Then sentiment categories are made with the sentiment column by taking <0 score as negative, 0 as neutral and >0 as positive and turning into a DataFrame column\n",
    "before_covid['sentiment'] = before_covid['summary'].apply(lambda i: TextBlob(str(i)).sentiment[0])\n",
    "before_covid['sentiment_category'] = ['positive' if score > 0 else 'negative' if score < 0 else 'neutral' for score in before_covid['sentiment']]\n",
    "\n",
    "\n",
    "after_covid['sentiment'] = after_covid['summary'].apply(lambda i: TextBlob(str(i)).sentiment[0])\n",
    "after_covid['sentiment_category'] = ['positive' if score > 0 else 'negative' if score < 0 else 'neutral' for score in after_covid['sentiment']]"
   ]
  },
  {
   "cell_type": "code",
   "execution_count": 57,
   "id": "bde0c8c5",
   "metadata": {},
   "outputs": [
    {
     "data": {
      "text/html": [
       "<div>\n",
       "<style scoped>\n",
       "    .dataframe tbody tr th:only-of-type {\n",
       "        vertical-align: middle;\n",
       "    }\n",
       "\n",
       "    .dataframe tbody tr th {\n",
       "        vertical-align: top;\n",
       "    }\n",
       "\n",
       "    .dataframe thead th {\n",
       "        text-align: right;\n",
       "    }\n",
       "</style>\n",
       "<table border=\"1\" class=\"dataframe\">\n",
       "  <thead>\n",
       "    <tr style=\"text-align: right;\">\n",
       "      <th></th>\n",
       "      <th>date</th>\n",
       "      <th>state</th>\n",
       "      <th>country</th>\n",
       "      <th>shape</th>\n",
       "      <th>summary</th>\n",
       "      <th>sentiment</th>\n",
       "      <th>sentiment_category</th>\n",
       "    </tr>\n",
       "  </thead>\n",
       "  <tbody>\n",
       "    <tr>\n",
       "      <th>9527</th>\n",
       "      <td>2020-03-14</td>\n",
       "      <td>TX</td>\n",
       "      <td>USA</td>\n",
       "      <td>Rectangle</td>\n",
       "      <td>cube shaped object silently glide neighborhood...</td>\n",
       "      <td>0.000000</td>\n",
       "      <td>neutral</td>\n",
       "    </tr>\n",
       "    <tr>\n",
       "      <th>9528</th>\n",
       "      <td>2020-03-14</td>\n",
       "      <td>MT</td>\n",
       "      <td>USA</td>\n",
       "      <td>Light</td>\n",
       "      <td>mysterious light sky looked like something sho...</td>\n",
       "      <td>0.250000</td>\n",
       "      <td>positive</td>\n",
       "    </tr>\n",
       "    <tr>\n",
       "      <th>9529</th>\n",
       "      <td>2020-03-14</td>\n",
       "      <td>WI</td>\n",
       "      <td>USA</td>\n",
       "      <td>Other</td>\n",
       "      <td>sky clear observed white starlike object weste...</td>\n",
       "      <td>0.033333</td>\n",
       "      <td>positive</td>\n",
       "    </tr>\n",
       "    <tr>\n",
       "      <th>9530</th>\n",
       "      <td>2020-03-14</td>\n",
       "      <td>PA</td>\n",
       "      <td>USA</td>\n",
       "      <td>Sphere</td>\n",
       "      <td>bright circle star like object</td>\n",
       "      <td>0.700000</td>\n",
       "      <td>positive</td>\n",
       "    </tr>\n",
       "    <tr>\n",
       "      <th>9532</th>\n",
       "      <td>2020-03-14</td>\n",
       "      <td>MN</td>\n",
       "      <td>USA</td>\n",
       "      <td>Light</td>\n",
       "      <td>white light moving fast medilia minnesota  spa...</td>\n",
       "      <td>0.200000</td>\n",
       "      <td>positive</td>\n",
       "    </tr>\n",
       "    <tr>\n",
       "      <th>...</th>\n",
       "      <td>...</td>\n",
       "      <td>...</td>\n",
       "      <td>...</td>\n",
       "      <td>...</td>\n",
       "      <td>...</td>\n",
       "      <td>...</td>\n",
       "      <td>...</td>\n",
       "    </tr>\n",
       "    <tr>\n",
       "      <th>18461</th>\n",
       "      <td>2018-09-15</td>\n",
       "      <td>NJ</td>\n",
       "      <td>USA</td>\n",
       "      <td>Oval</td>\n",
       "      <td>saw  bright oval light sky straight row flew a...</td>\n",
       "      <td>0.325000</td>\n",
       "      <td>positive</td>\n",
       "    </tr>\n",
       "    <tr>\n",
       "      <th>18462</th>\n",
       "      <td>2018-09-15</td>\n",
       "      <td>OH</td>\n",
       "      <td>USA</td>\n",
       "      <td>Circle</td>\n",
       "      <td>group  bubblelike ufo seen ne ohio traveling nw</td>\n",
       "      <td>0.000000</td>\n",
       "      <td>neutral</td>\n",
       "    </tr>\n",
       "    <tr>\n",
       "      <th>18463</th>\n",
       "      <td>2018-09-15</td>\n",
       "      <td>NY</td>\n",
       "      <td>USA</td>\n",
       "      <td>Triangle</td>\n",
       "      <td>saw triangular object green red line appeared ...</td>\n",
       "      <td>-0.100000</td>\n",
       "      <td>negative</td>\n",
       "    </tr>\n",
       "    <tr>\n",
       "      <th>18464</th>\n",
       "      <td>2018-09-15</td>\n",
       "      <td>NJ</td>\n",
       "      <td>USA</td>\n",
       "      <td>Light</td>\n",
       "      <td>brilliant bright light brick nj</td>\n",
       "      <td>0.666667</td>\n",
       "      <td>positive</td>\n",
       "    </tr>\n",
       "    <tr>\n",
       "      <th>18465</th>\n",
       "      <td>2018-09-15</td>\n",
       "      <td>VA</td>\n",
       "      <td>USA</td>\n",
       "      <td>Light</td>\n",
       "      <td>multi color light light night sky temporary di...</td>\n",
       "      <td>0.400000</td>\n",
       "      <td>positive</td>\n",
       "    </tr>\n",
       "  </tbody>\n",
       "</table>\n",
       "<p>8398 rows × 7 columns</p>\n",
       "</div>"
      ],
      "text/plain": [
       "            date state country      shape  \\\n",
       "9527  2020-03-14    TX     USA  Rectangle   \n",
       "9528  2020-03-14    MT     USA      Light   \n",
       "9529  2020-03-14    WI     USA      Other   \n",
       "9530  2020-03-14    PA     USA     Sphere   \n",
       "9532  2020-03-14    MN     USA      Light   \n",
       "...          ...   ...     ...        ...   \n",
       "18461 2018-09-15    NJ     USA       Oval   \n",
       "18462 2018-09-15    OH     USA     Circle   \n",
       "18463 2018-09-15    NY     USA   Triangle   \n",
       "18464 2018-09-15    NJ     USA      Light   \n",
       "18465 2018-09-15    VA     USA      Light   \n",
       "\n",
       "                                                 summary  sentiment  \\\n",
       "9527   cube shaped object silently glide neighborhood...   0.000000   \n",
       "9528   mysterious light sky looked like something sho...   0.250000   \n",
       "9529   sky clear observed white starlike object weste...   0.033333   \n",
       "9530                      bright circle star like object   0.700000   \n",
       "9532   white light moving fast medilia minnesota  spa...   0.200000   \n",
       "...                                                  ...        ...   \n",
       "18461  saw  bright oval light sky straight row flew a...   0.325000   \n",
       "18462    group  bubblelike ufo seen ne ohio traveling nw   0.000000   \n",
       "18463  saw triangular object green red line appeared ...  -0.100000   \n",
       "18464                    brilliant bright light brick nj   0.666667   \n",
       "18465  multi color light light night sky temporary di...   0.400000   \n",
       "\n",
       "      sentiment_category  \n",
       "9527             neutral  \n",
       "9528            positive  \n",
       "9529            positive  \n",
       "9530            positive  \n",
       "9532            positive  \n",
       "...                  ...  \n",
       "18461           positive  \n",
       "18462            neutral  \n",
       "18463           negative  \n",
       "18464           positive  \n",
       "18465           positive  \n",
       "\n",
       "[8398 rows x 7 columns]"
      ]
     },
     "execution_count": 57,
     "metadata": {},
     "output_type": "execute_result"
    }
   ],
   "source": [
    "# Gives snapshot of data frame to show an example of how the data looks after sentiment analysis\n",
    "before_covid"
   ]
  },
  {
   "cell_type": "code",
   "execution_count": 58,
   "id": "183c97d9",
   "metadata": {},
   "outputs": [
    {
     "name": "stdout",
     "output_type": "stream",
     "text": [
      "Count of Before Covid Summaries by Sentiment Category: \n",
      "\n",
      "positive    5029\n",
      "neutral     2451\n",
      "negative     918\n",
      "Name: sentiment_category, dtype: int64\n"
     ]
    },
    {
     "data": {
      "image/png": "[encoded data removed]",
      "text/plain": [
       "<Figure size 432x288 with 1 Axes>"
      ]
     },
     "metadata": {
      "needs_background": "light"
     },
     "output_type": "display_data"
    }
   ],
   "source": [
    "## Sentiment Categories\n",
    "# Gets value counts of sentiment category column as a dictionary type object\n",
    "before_cats = before_covid['sentiment_category'].value_counts()\n",
    "\n",
    "# Prints that printout\n",
    "print('Count of Before Covid Summaries by Sentiment Category:','\\n')\n",
    "print(before_cats)\n",
    "\n",
    "# Plots bar chart of x as keys of dictionary obect and y as values of the object\n",
    "plt.bar(before_cats.keys(),before_cats.values)\n",
    "\n",
    "plt.title('Count of Before Covid Summaries by Sentiment Category', fontsize = 15)\n",
    "plt.xlabel('Sentiment Category')\n",
    "plt.ylabel('Count');"
   ]
  },
  {
   "cell_type": "code",
   "execution_count": 59,
   "id": "213a1e52",
   "metadata": {},
   "outputs": [
    {
     "name": "stdout",
     "output_type": "stream",
     "text": [
      "Count of After Covid Summaries by Sentiment Category: \n",
      "\n",
      "positive    4194\n",
      "neutral     2369\n",
      "negative     830\n",
      "Name: sentiment_category, dtype: int64\n"
     ]
    },
    {
     "data": {
      "image/png": "[encoded data removed]",
      "text/plain": [
       "<Figure size 432x288 with 1 Axes>"
      ]
     },
     "metadata": {
      "needs_background": "light"
     },
     "output_type": "display_data"
    }
   ],
   "source": [
    "# Gets value counts of sentiment category column as a dictionary type object\n",
    "after_cats = after_covid['sentiment_category'].value_counts()\n",
    "\n",
    "# Prints that printout\n",
    "print('Count of After Covid Summaries by Sentiment Category:','\\n')\n",
    "print(after_cats)\n",
    "\n",
    "# Plots bar chart of x as keys of dictionary obect and y as values of the object\n",
    "plt.bar(after_cats.keys(),after_cats.values)\n",
    "\n",
    "plt.title('Count of After Covid Summaries by Sentiment Category', fontsize = 15)\n",
    "plt.xlabel('Sentiment Category')\n",
    "plt.ylabel('Count');"
   ]
  },
  {
   "cell_type": "code",
   "execution_count": 62,
   "id": "435dcdac",
   "metadata": {},
   "outputs": [
    {
     "name": "stdout",
     "output_type": "stream",
     "text": [
      "Before Covid mean of sentiment scores is:  0.14177733626496727\n",
      "\n",
      " After Covid mean of sentiment scores is:  0.1333834429339673\n"
     ]
    },
    {
     "data": {
      "image/png": "[encoded data removed]",
      "text/plain": [
       "<Figure size 576x432 with 1 Axes>"
      ]
     },
     "metadata": {
      "needs_background": "light"
     },
     "output_type": "display_data"
    }
   ],
   "source": [
    "## Comparing Average Sentiment \n",
    "\n",
    "# Prints means of sentiment score for before and after covid summaries\n",
    "print(\"Before Covid mean of sentiment scores is: \",before_covid['sentiment'].mean())\n",
    "print(\"\\n\",\"After Covid mean of sentiment scores is: \",after_covid['sentiment'].mean())\n",
    "\n",
    "# Creates bar chart for comparison of means\n",
    "plt.figure(figsize=(8,6))\n",
    "\n",
    "plt.bar(['Before Covid-19', 'After Covid-19'],[before_covid['sentiment'].mean(),before_covid['sentiment'].mean()])\n",
    "\n",
    "plt.title('Average Sentiment Comparison of Before Covid and After Covid Report Summaries', fontsize = 15)\n",
    "plt.xlabel('Time Period')\n",
    "plt.ylabel('Sentiment Score ( -1 to 1)');"
   ]
  },
  {
   "cell_type": "code",
   "execution_count": 61,
   "id": "259404cf",
   "metadata": {},
   "outputs": [
    {
     "name": "stdout",
     "output_type": "stream",
     "text": [
      "Statistics=31998559.000, p=0.001\n",
      "Different distribution (reject H0)\n"
     ]
    }
   ],
   "source": [
    "# Creates hypothesis test for Mann-Whitney U test \n",
    "stat, p = mannwhitneyu(before_covid['sentiment'], after_covid['sentiment'])\n",
    "print('Statistics=%.3f, p=%.3f' % (stat, p))\n",
    "# Interpret the test\n",
    "alpha = 0.05\n",
    "if p > alpha:\n",
    "    print('Same distribution (fail to reject H0)')\n",
    "else:\n",
    "    print('Different distribution (reject H0)')"
   ]
  },
  {
   "cell_type": "code",
   "execution_count": null,
   "id": "ac436c05",
   "metadata": {},
   "outputs": [],
   "source": []
  }
 ],
 "metadata": {
  "kernelspec": {
   "display_name": "Python 3 (ipykernel)",
   "language": "python",
   "name": "python3"
  },
  "language_info": {
   "codemirror_mode": {
    "name": "ipython",
    "version": 3
   },
   "file_extension": ".py",
   "mimetype": "text/x-python",
   "name": "python",
   "nbconvert_exporter": "python",
   "pygments_lexer": "ipython3",
   "version": "3.9.12"
  }
 },
 "nbformat": 4,
 "nbformat_minor": 5
}
